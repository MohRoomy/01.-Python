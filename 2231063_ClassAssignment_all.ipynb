{
 "cells": [
  {
   "cell_type": "code",
   "execution_count": 3,
   "id": "c4bf253a-0cb5-47b8-8430-382da25aaff1",
   "metadata": {},
   "outputs": [],
   "source": [
    "from ClassAssignment import ClassAssignment"
   ]
  },
  {
   "cell_type": "code",
   "execution_count": 5,
   "id": "c0758f4b-415e-4524-b360-704b16c36bd5",
   "metadata": {},
   "outputs": [
    {
     "name": "stdout",
     "output_type": "stream",
     "text": [
      "Sub-fields in AI are:\n",
      "Machine Learning\n",
      "Neural Networks\n",
      "Vision\n",
      "Robotics\n",
      "Speech Processing\n",
      "Natural Language Processing\n"
     ]
    }
   ],
   "source": [
    "ClassAssignment.Subfields()"
   ]
  },
  {
   "cell_type": "code",
   "execution_count": 7,
   "id": "c1a9c6f9-63b7-48c3-9b5c-299854354b09",
   "metadata": {},
   "outputs": [
    {
     "name": "stdin",
     "output_type": "stream",
     "text": [
      "Enter a Numebr to Check:  1234\n"
     ]
    },
    {
     "name": "stdout",
     "output_type": "stream",
     "text": [
      "1234 is EVEN Numebr\n"
     ]
    }
   ],
   "source": [
    "ClassAssignment.OddEven()"
   ]
  },
  {
   "cell_type": "code",
   "execution_count": 7,
   "id": "b91fbfff-16da-464b-afa0-3383591bafe9",
   "metadata": {},
   "outputs": [
    {
     "name": "stdin",
     "output_type": "stream",
     "text": [
      "Enter Your Gender:  male\n",
      "Enter Your Age:  23\n"
     ]
    },
    {
     "name": "stdout",
     "output_type": "stream",
     "text": [
      "ELEGIBLE\n"
     ]
    }
   ],
   "source": [
    "ClassAssignment.Elegible()"
   ]
  },
  {
   "cell_type": "code",
   "execution_count": 9,
   "id": "9717747e-f70c-4156-a895-e0ca4b86dcaf",
   "metadata": {},
   "outputs": [
    {
     "name": "stdin",
     "output_type": "stream",
     "text": [
      "Subject1=  97\n",
      "Subject2=  87\n",
      "Subject3=  95\n",
      "Subject4=  85\n",
      "Subject5=  95\n"
     ]
    },
    {
     "name": "stdout",
     "output_type": "stream",
     "text": [
      "Total:  459\n",
      "Percentage:  91.80000000000000\n"
     ]
    }
   ],
   "source": [
    "ClassAssignment.percentage()"
   ]
  },
  {
   "cell_type": "code",
   "execution_count": 11,
   "id": "2aa7b01f-1846-4d2c-bbc2-cf12d13b8588",
   "metadata": {},
   "outputs": [
    {
     "name": "stdin",
     "output_type": "stream",
     "text": [
      "Height:  32\n",
      "Breadth:  34\n"
     ]
    },
    {
     "name": "stdout",
     "output_type": "stream",
     "text": [
      "Area formula: (Height * Breadth)/2\n",
      "Area of Triangle:  544.00\n"
     ]
    },
    {
     "name": "stdin",
     "output_type": "stream",
     "text": [
      "Height1: 4\n",
      "Height2: 4\n",
      "Breadth: 2\n"
     ]
    },
    {
     "name": "stdout",
     "output_type": "stream",
     "text": [
      "Perimeter formula: Height1+Height2+Breadth\n",
      "Perimeter of Triangle:  10\n"
     ]
    }
   ],
   "source": [
    "ClassAssignment.triangle()"
   ]
  },
  {
   "cell_type": "code",
   "execution_count": null,
   "id": "439d9299-4bfa-4290-860d-830790a70db5",
   "metadata": {},
   "outputs": [],
   "source": []
  }
 ],
 "metadata": {
  "kernelspec": {
   "display_name": "Python [conda env:base] *",
   "language": "python",
   "name": "conda-base-py"
  },
  "language_info": {
   "codemirror_mode": {
    "name": "ipython",
    "version": 3
   },
   "file_extension": ".py",
   "mimetype": "text/x-python",
   "name": "python",
   "nbconvert_exporter": "python",
   "pygments_lexer": "ipython3",
   "version": "3.12.7"
  }
 },
 "nbformat": 4,
 "nbformat_minor": 5
}
