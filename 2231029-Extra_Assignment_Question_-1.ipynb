{
 "cells": [
  {
   "cell_type": "code",
   "execution_count": 1,
   "id": "2072d3de-abc1-460f-b504-94858afc5eb1",
   "metadata": {},
   "outputs": [],
   "source": [
    "# Print Statement"
   ]
  },
  {
   "cell_type": "code",
   "execution_count": 3,
   "id": "a5c2f780-3a9e-4580-a6f3-bacd70ddfd37",
   "metadata": {},
   "outputs": [
    {
     "name": "stdout",
     "output_type": "stream",
     "text": [
      "HOPE AI\n"
     ]
    }
   ],
   "source": [
    "print (\"HOPE AI\")"
   ]
  },
  {
   "cell_type": "code",
   "execution_count": 5,
   "id": "875baba5-ac6a-4f79-ae35-9024f9d91939",
   "metadata": {},
   "outputs": [],
   "source": [
    "# Buy Input"
   ]
  },
  {
   "cell_type": "code",
   "execution_count": 7,
   "id": "0566a0f5-e379-4927-b5f9-5d6ea9f60d78",
   "metadata": {},
   "outputs": [
    {
     "name": "stdin",
     "output_type": "stream",
     "text": [
      "Enter your institue name? :  HOPE AI\n"
     ]
    }
   ],
   "source": [
    "inst = input(\"Enter your institue name? : \")"
   ]
  },
  {
   "cell_type": "code",
   "execution_count": 9,
   "id": "b7e906cc-3a7c-44cd-8bf8-4e0d5200ee62",
   "metadata": {},
   "outputs": [
    {
     "name": "stdin",
     "output_type": "stream",
     "text": [
      "Enter your name:  Raj\n",
      "Enter your age:  15\n",
      "Enter your schoolname:  Guru school\n",
      "Enter Your degree:  B.E.CSE\n"
     ]
    }
   ],
   "source": [
    "nam = input (\"Enter your name: \")\n",
    "age = int(input(\"Enter your age: \"))\n",
    "schl = input(\"Enter your schoolname: \")\n",
    "drgr = input (\"Enter Your degree: \")\n"
   ]
  },
  {
   "cell_type": "code",
   "execution_count": 11,
   "id": "391e06f8-5767-4f04-b5e3-c0c0a897d0e2",
   "metadata": {},
   "outputs": [],
   "source": [
    "# Addition"
   ]
  },
  {
   "cell_type": "code",
   "execution_count": 13,
   "id": "fca4a28c-36df-46ec-a2b3-117b7de67413",
   "metadata": {},
   "outputs": [
    {
     "name": "stdout",
     "output_type": "stream",
     "text": [
      "a =  43\n",
      "b =  34\n",
      "add =  77\n"
     ]
    }
   ],
   "source": [
    "a=43\n",
    "b=34\n",
    "c= a+b\n",
    "print (\"a = \",a)\n",
    "print (\"b = \",b)\n",
    "print (\"add = \",c)"
   ]
  },
  {
   "cell_type": "code",
   "execution_count": 15,
   "id": "1d6adc11-b76c-4df0-b7cb-74301314c029",
   "metadata": {},
   "outputs": [],
   "source": [
    "# Subtraction"
   ]
  },
  {
   "cell_type": "code",
   "execution_count": 17,
   "id": "9947bf07-31e7-43fe-9a10-11d33ba9add5",
   "metadata": {},
   "outputs": [
    {
     "name": "stdout",
     "output_type": "stream",
     "text": [
      "a =  43\n",
      "b =  34\n",
      "Sub =  9\n"
     ]
    }
   ],
   "source": [
    "a=43\n",
    "b=34\n",
    "c= a-b\n",
    "print (\"a = \",a)\n",
    "print (\"b = \",b)\n",
    "print (\"Sub = \",c)"
   ]
  },
  {
   "cell_type": "code",
   "execution_count": 19,
   "id": "90503d96-ad0b-4c49-b57b-d44957852cad",
   "metadata": {},
   "outputs": [],
   "source": [
    "# Multiplication"
   ]
  },
  {
   "cell_type": "code",
   "execution_count": 21,
   "id": "28b98590-f93d-4ba4-9e85-c59b65a1455f",
   "metadata": {},
   "outputs": [
    {
     "name": "stdout",
     "output_type": "stream",
     "text": [
      "a =  63\n",
      "b =  97\n",
      "Mul =  6111\n"
     ]
    }
   ],
   "source": [
    "a=63\n",
    "b=97\n",
    "c= a * b\n",
    "print (\"a = \",a)\n",
    "print (\"b = \",b)\n",
    "print (\"Mul = \",c)"
   ]
  },
  {
   "cell_type": "code",
   "execution_count": 23,
   "id": "aa80c6c0-adfd-4220-8d88-112781ebd262",
   "metadata": {},
   "outputs": [],
   "source": [
    "# Division"
   ]
  },
  {
   "cell_type": "code",
   "execution_count": 25,
   "id": "372cbbe3-e46a-4384-bfaf-168eff8d274f",
   "metadata": {},
   "outputs": [
    {
     "name": "stdout",
     "output_type": "stream",
     "text": [
      "a =  76\n",
      "b =  31\n",
      "Float Div =  2.4516129032258065\n"
     ]
    }
   ],
   "source": [
    "a=76\n",
    "b=31\n",
    "c= a / b\n",
    "print (\"a = \",a)\n",
    "print (\"b = \",b)\n",
    "print (\"Float Div = \",c)"
   ]
  },
  {
   "cell_type": "code",
   "execution_count": null,
   "id": "77d8b835-4785-4d13-8dad-92dc986305fe",
   "metadata": {},
   "outputs": [],
   "source": [
    "# Floor Division"
   ]
  },
  {
   "cell_type": "code",
   "execution_count": 27,
   "id": "74956a7d-4a71-446f-821b-4b312c6b4a26",
   "metadata": {},
   "outputs": [
    {
     "name": "stdout",
     "output_type": "stream",
     "text": [
      "a =  76\n",
      "b =  31\n",
      "Floor Div =  2\n"
     ]
    }
   ],
   "source": [
    "a=76\n",
    "b=31\n",
    "c= a // b\n",
    "print (\"a = \",a)\n",
    "print (\"b = \",b)\n",
    "print (\"Floor Div = \",c)"
   ]
  },
  {
   "cell_type": "code",
   "execution_count": null,
   "id": "2eb56c74-d4fa-4cfd-b8fe-905661635247",
   "metadata": {},
   "outputs": [],
   "source": [
    "#Modulo"
   ]
  },
  {
   "cell_type": "code",
   "execution_count": 29,
   "id": "5ee033c4-00b9-4286-8dd0-0ee560b81c43",
   "metadata": {},
   "outputs": [
    {
     "name": "stdout",
     "output_type": "stream",
     "text": [
      "a =  76\n",
      "b =  31\n",
      "Modulo =  14\n"
     ]
    }
   ],
   "source": [
    "a=76\n",
    "b=31\n",
    "c= a % b\n",
    "print (\"a = \",a)\n",
    "print (\"b = \",b)\n",
    "print (\"Modulo = \",c)"
   ]
  },
  {
   "cell_type": "code",
   "execution_count": 31,
   "id": "5a4e8c02-0ad2-4a08-add2-ca4778fcd1dc",
   "metadata": {},
   "outputs": [],
   "source": [
    "# Power"
   ]
  },
  {
   "cell_type": "code",
   "execution_count": 33,
   "id": "4c122168-3b82-43b7-b145-120a601f5946",
   "metadata": {},
   "outputs": [
    {
     "name": "stdout",
     "output_type": "stream",
     "text": [
      "a =  4\n",
      "b =  4\n",
      "Power =  256\n"
     ]
    }
   ],
   "source": [
    "a=4\n",
    "b=4\n",
    "c= a ** b\n",
    "print (\"a = \",a)\n",
    "print (\"b = \",b)\n",
    "print (\"Power = \",c)"
   ]
  },
  {
   "cell_type": "code",
   "execution_count": null,
   "id": "f801023a-499a-440f-80fa-35163accf80c",
   "metadata": {},
   "outputs": [],
   "source": []
  }
 ],
 "metadata": {
  "kernelspec": {
   "display_name": "Python [conda env:base] *",
   "language": "python",
   "name": "conda-base-py"
  },
  "language_info": {
   "codemirror_mode": {
    "name": "ipython",
    "version": 3
   },
   "file_extension": ".py",
   "mimetype": "text/x-python",
   "name": "python",
   "nbconvert_exporter": "python",
   "pygments_lexer": "ipython3",
   "version": "3.12.7"
  }
 },
 "nbformat": 4,
 "nbformat_minor": 5
}
