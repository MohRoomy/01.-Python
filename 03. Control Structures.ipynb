{
 "cells": [
  {
   "cell_type": "code",
   "execution_count": 2,
   "id": "e7654d27-3942-42be-ad4e-556d3caa1b31",
   "metadata": {},
   "outputs": [],
   "source": [
    "#if\n",
    "if():\n",
    "    print()"
   ]
  },
  {
   "cell_type": "code",
   "execution_count": 4,
   "id": "49124d82-c9b9-477b-8509-93298564f411",
   "metadata": {},
   "outputs": [
    {
     "name": "stdin",
     "output_type": "stream",
     "text": [
      "Enter your age :  18\n"
     ]
    },
    {
     "name": "stdout",
     "output_type": "stream",
     "text": [
      "Adult\n"
     ]
    }
   ],
   "source": [
    "age=int(input(\"Enter your age : \"))\n",
    "if (age==18):\n",
    "    print(\"Adult\")"
   ]
  },
  {
   "cell_type": "code",
   "execution_count": 1,
   "id": "660118f4-189e-4e77-9f4e-55df5a53c63e",
   "metadata": {},
   "outputs": [],
   "source": [
    "#if-else"
   ]
  },
  {
   "cell_type": "code",
   "execution_count": 3,
   "id": "f8eeb978-828b-42f8-9a4a-a75698eecf30",
   "metadata": {},
   "outputs": [
    {
     "name": "stdout",
     "output_type": "stream",
     "text": [
      "\n"
     ]
    }
   ],
   "source": [
    "if ():\n",
    "    print ()\n",
    "else:\n",
    "    print()"
   ]
  },
  {
   "cell_type": "code",
   "execution_count": 7,
   "id": "bdc142db-ab1b-480e-b879-226215fd3d09",
   "metadata": {},
   "outputs": [
    {
     "name": "stdin",
     "output_type": "stream",
     "text": [
      "Enter Your Age:  19\n"
     ]
    },
    {
     "name": "stdout",
     "output_type": "stream",
     "text": [
      "Your are Adult\n"
     ]
    }
   ],
   "source": [
    "age = int(input(\"Enter Your Age: \"))\n",
    "if (age<18):\n",
    "    print (\"Your are Children\")\n",
    "else:\n",
    "    print(\"Your are Adult\")"
   ]
  },
  {
   "cell_type": "code",
   "execution_count": 9,
   "id": "634c2fba-04e9-473e-89d6-e1b44adda506",
   "metadata": {},
   "outputs": [],
   "source": [
    "#if-elif"
   ]
  },
  {
   "cell_type": "code",
   "execution_count": 11,
   "id": "38d5eec9-d9f9-4fcf-856a-e1cd72783dc2",
   "metadata": {},
   "outputs": [
    {
     "name": "stdout",
     "output_type": "stream",
     "text": [
      "\n"
     ]
    }
   ],
   "source": [
    "if ():\n",
    "    print()\n",
    "elif ():\n",
    "    print ()\n",
    "elif ():\n",
    "    print ()\n",
    "else:\n",
    "    print ()   \n",
    "\n"
   ]
  },
  {
   "cell_type": "code",
   "execution_count": 19,
   "id": "c6d50ae8-139c-46c0-9786-7e2b065b0b05",
   "metadata": {},
   "outputs": [
    {
     "name": "stdin",
     "output_type": "stream",
     "text": [
      "Enter Your Age:  60\n"
     ]
    },
    {
     "name": "stdout",
     "output_type": "stream",
     "text": [
      "Your are Senior Citizen\n"
     ]
    }
   ],
   "source": [
    "age = int(input(\"Enter Your Age: \"))\n",
    "if (age<18):\n",
    "    print (\"Your are Children\")\n",
    "elif (age<35):\n",
    "    print(\"Your are Adult\")\n",
    "elif (age<59):\n",
    "    print(\"Your are Citizen\")\n",
    "else:\n",
    "    print(\"Your are Senior Citizen\")"
   ]
  },
  {
   "cell_type": "code",
   "execution_count": 21,
   "id": "0e990244-34af-4323-b1e2-320f0174f584",
   "metadata": {},
   "outputs": [],
   "source": [
    "#for loop"
   ]
  },
  {
   "cell_type": "code",
   "execution_count": 23,
   "id": "08ed1c7b-c8c0-4b21-a67d-4fe7c9b73dc8",
   "metadata": {},
   "outputs": [
    {
     "name": "stdout",
     "output_type": "stream",
     "text": [
      "56\n",
      "57\n",
      "45\n",
      "30\n",
      "12\n"
     ]
    }
   ],
   "source": [
    "lists=[56,57,45,30,12]\n",
    "for temp in lists:\n",
    "    print(temp)"
   ]
  },
  {
   "cell_type": "code",
   "execution_count": 25,
   "id": "42489e55-9944-432b-9228-7630ca12bfc6",
   "metadata": {},
   "outputs": [
    {
     "name": "stdout",
     "output_type": "stream",
     "text": [
      "Your are Citizen\n",
      "Your are Citizen\n",
      "Your are Adult\n",
      "Your are Senior Citizen\n",
      "Your are Children\n"
     ]
    }
   ],
   "source": [
    "lists=[56,35,23,67,12]\n",
    "for age in lists:\n",
    "    if (age<18):\n",
    "        print (\"Your are Children\")\n",
    "    elif (age<35):\n",
    "        print(\"Your are Adult\")\n",
    "    elif (age<59):\n",
    "        print(\"Your are Citizen\")\n",
    "    else:\n",
    "        print(\"Your are Senior Citizen\")\n"
   ]
  },
  {
   "cell_type": "code",
   "execution_count": 29,
   "id": "1e74323a-b14d-4f16-9fc4-868c0875fc96",
   "metadata": {},
   "outputs": [
    {
     "name": "stdin",
     "output_type": "stream",
     "text": [
      "Enter the Number:  6\n"
     ]
    },
    {
     "name": "stdout",
     "output_type": "stream",
     "text": [
      "You Entered Number is EVEN\n"
     ]
    }
   ],
   "source": [
    "num = int(input(\"Enter the Number: \"))\n",
    "if ((num%2)==0):\n",
    "    print (\"You Entered Number is EVEN\")\n",
    "else:\n",
    "    print (\"You Entered Number is ODD\")"
   ]
  },
  {
   "cell_type": "code",
   "execution_count": 35,
   "id": "43142c20-75ef-45a4-9c6d-1f765496bb56",
   "metadata": {},
   "outputs": [
    {
     "name": "stdout",
     "output_type": "stream",
     "text": [
      "You Entered Number  12  is EVEN\n",
      "You Entered Number  17  is ODD\n",
      "You Entered Number  28  is EVEN\n",
      "You Entered Number  35  is ODD\n",
      "You Entered Number  47  is ODD\n",
      "You Entered Number  50  is EVEN\n"
     ]
    }
   ],
   "source": [
    "nums=[12,17,28,35,47,50]\n",
    "for temp in nums:\n",
    "    if ((temp%2)==0):\n",
    "        print (\"You Entered Number \", temp,\" is EVEN\")\n",
    "    else:\n",
    "        print (\"You Entered Number \", temp,\" is ODD\")\n",
    "    "
   ]
  },
  {
   "cell_type": "code",
   "execution_count": 37,
   "id": "0206841f-37cd-4d66-bc01-760fdee2a60b",
   "metadata": {},
   "outputs": [],
   "source": [
    "# range ()"
   ]
  },
  {
   "cell_type": "code",
   "execution_count": 39,
   "id": "04fed7c1-62ab-44b8-b9cb-f44ca5485bbf",
   "metadata": {},
   "outputs": [
    {
     "name": "stdout",
     "output_type": "stream",
     "text": [
      "0 10\n"
     ]
    }
   ],
   "source": [
    "print (0,10)"
   ]
  },
  {
   "cell_type": "code",
   "execution_count": 41,
   "id": "34ebdf1d-491c-4354-b9b3-512a33811e7d",
   "metadata": {},
   "outputs": [
    {
     "name": "stdout",
     "output_type": "stream",
     "text": [
      "0\n",
      "1\n",
      "2\n",
      "3\n",
      "4\n",
      "5\n",
      "6\n",
      "7\n",
      "8\n",
      "9\n"
     ]
    }
   ],
   "source": [
    "for num in range (0,10):\n",
    "    print (num)"
   ]
  },
  {
   "cell_type": "code",
   "execution_count": 43,
   "id": "5187a03f-c323-4375-8dbe-f4192728f061",
   "metadata": {},
   "outputs": [
    {
     "name": "stdout",
     "output_type": "stream",
     "text": [
      "1\n",
      "2\n",
      "3\n",
      "4\n",
      "5\n",
      "6\n",
      "7\n",
      "8\n",
      "9\n",
      "10\n"
     ]
    }
   ],
   "source": [
    "for num in range (1,11):\n",
    "    print (num)"
   ]
  },
  {
   "cell_type": "code",
   "execution_count": 45,
   "id": "da6b9206-4d8c-4446-b099-e630e1272c60",
   "metadata": {},
   "outputs": [
    {
     "name": "stdout",
     "output_type": "stream",
     "text": [
      "20\n",
      "21\n",
      "22\n",
      "23\n",
      "24\n",
      "25\n",
      "26\n",
      "27\n",
      "28\n",
      "29\n"
     ]
    }
   ],
   "source": [
    "for num in range (20,30):\n",
    "    print (num)"
   ]
  },
  {
   "cell_type": "code",
   "execution_count": 47,
   "id": "2cdb0dac-80f5-42c8-b22f-486fea6ca63a",
   "metadata": {},
   "outputs": [
    {
     "name": "stdout",
     "output_type": "stream",
     "text": [
      "1\n",
      "3\n",
      "5\n",
      "7\n",
      "9\n",
      "11\n",
      "13\n"
     ]
    }
   ],
   "source": [
    "for num in range (1,15,2):\n",
    "    print (num)"
   ]
  },
  {
   "cell_type": "code",
   "execution_count": 49,
   "id": "fdb070e2-24e9-4807-8909-2cf8d4265f5c",
   "metadata": {},
   "outputs": [
    {
     "name": "stdout",
     "output_type": "stream",
     "text": [
      "0\n",
      "2\n",
      "4\n",
      "6\n",
      "8\n",
      "10\n",
      "12\n",
      "14\n"
     ]
    }
   ],
   "source": [
    "for num in range (0,15,2):\n",
    "    print (num)"
   ]
  },
  {
   "cell_type": "code",
   "execution_count": null,
   "id": "45727ea6-ee97-4c38-b5a0-7fbfff5c5a0f",
   "metadata": {},
   "outputs": [],
   "source": []
  }
 ],
 "metadata": {
  "kernelspec": {
   "display_name": "Python [conda env:base] *",
   "language": "python",
   "name": "conda-base-py"
  },
  "language_info": {
   "codemirror_mode": {
    "name": "ipython",
    "version": 3
   },
   "file_extension": ".py",
   "mimetype": "text/x-python",
   "name": "python",
   "nbconvert_exporter": "python",
   "pygments_lexer": "ipython3",
   "version": "3.12.7"
  }
 },
 "nbformat": 4,
 "nbformat_minor": 5
}
