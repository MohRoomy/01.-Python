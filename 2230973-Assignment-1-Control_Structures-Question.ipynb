{
 "cells": [
  {
   "cell_type": "code",
   "execution_count": 1,
   "id": "187e27d7-ebe5-4da1-9d68-96c3ca8a2663",
   "metadata": {},
   "outputs": [
    {
     "name": "stdout",
     "output_type": "stream",
     "text": [
      "Welcome to Assignment-1\n"
     ]
    }
   ],
   "source": [
    "print (\"Welcome to Assignment-1\")"
   ]
  },
  {
   "cell_type": "code",
   "execution_count": 1,
   "id": "4dd7feb7-c140-465a-b4be-99ae5c5751d8",
   "metadata": {},
   "outputs": [
    {
     "name": "stdout",
     "output_type": "stream",
     "text": [
      "Num1 =  10\n",
      "Num2 =  30\n",
      "Add =  40\n"
     ]
    }
   ],
   "source": [
    "num1=10\n",
    "num2=30\n",
    "add=num1+num2\n",
    "print (\"Num1 = \",num1)\n",
    "print (\"Num2 = \",num2)\n",
    "print (\"Add = \",add)"
   ]
  },
  {
   "cell_type": "code",
   "execution_count": 15,
   "id": "0609f66e-a396-48c8-9cfb-cc0e52c8bb17",
   "metadata": {},
   "outputs": [],
   "source": [
    "#Body Mass Index"
   ]
  },
  {
   "cell_type": "code",
   "execution_count": 21,
   "id": "3cc6c875-6a9c-4dd3-b5d4-48a51e24d113",
   "metadata": {},
   "outputs": [
    {
     "name": "stdin",
     "output_type": "stream",
     "text": [
      "Enter The Your BMI Index :  34\n"
     ]
    },
    {
     "name": "stdout",
     "output_type": "stream",
     "text": [
      "Your Very Overweight\n"
     ]
    }
   ],
   "source": [
    "BMI = float(input(\"Enter The Your BMI Index : \"))\n",
    "if BMI < 16:\n",
    "    print (\"Your Severe Thinness\")\n",
    "elif BMI < 17:\n",
    "    print (\"Your Moderate Thinness\")\n",
    "elif BMI < 18.5:\n",
    "    print (\"Your Mild Thinness\")\n",
    "elif BMI < 25:\n",
    "    print (\"Your Normal Weight\")\n",
    "elif BMI < 30:\n",
    "    print (\"Your Overweight\")\n",
    "else:\n",
    "    print (\"Your Very Overweight\")"
   ]
  },
  {
   "cell_type": "code",
   "execution_count": null,
   "id": "5dd607c7-4eae-49ab-94e4-b915e7526671",
   "metadata": {},
   "outputs": [],
   "source": []
  }
 ],
 "metadata": {
  "kernelspec": {
   "display_name": "Python [conda env:base] *",
   "language": "python",
   "name": "conda-base-py"
  },
  "language_info": {
   "codemirror_mode": {
    "name": "ipython",
    "version": 3
   },
   "file_extension": ".py",
   "mimetype": "text/x-python",
   "name": "python",
   "nbconvert_exporter": "python",
   "pygments_lexer": "ipython3",
   "version": "3.12.7"
  }
 },
 "nbformat": 4,
 "nbformat_minor": 5
}
