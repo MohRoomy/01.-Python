{
 "cells": [
  {
   "cell_type": "code",
   "execution_count": 1,
   "id": "1de933ad-768b-4c7b-a1fa-ffd1a2d5b6a5",
   "metadata": {},
   "outputs": [],
   "source": [
    "# print 'CORRECT' if i == 10"
   ]
  },
  {
   "cell_type": "code",
   "execution_count": 3,
   "id": "830a46d8-9321-42e0-997f-a093599037f5",
   "metadata": {},
   "outputs": [
    {
     "name": "stdin",
     "output_type": "stream",
     "text": [
      "Value:  10\n"
     ]
    },
    {
     "name": "stdout",
     "output_type": "stream",
     "text": [
      "CORRECT\n"
     ]
    }
   ],
   "source": [
    "i = int(input(\"Value: \"))\n",
    "if i == 10:\n",
    "    print (\"CORRECT\")"
   ]
  },
  {
   "cell_type": "code",
   "execution_count": 9,
   "id": "7e99765d-ea1e-4e6c-86b6-0e1a0d7c173b",
   "metadata": {},
   "outputs": [],
   "source": [
    "# check the password, using if and else"
   ]
  },
  {
   "cell_type": "code",
   "execution_count": 7,
   "id": "0ac8a58d-fd4c-498d-b17b-0e8398646e73",
   "metadata": {},
   "outputs": [
    {
     "name": "stdin",
     "output_type": "stream",
     "text": [
      "Enter the password:  HOPE@123\n"
     ]
    },
    {
     "name": "stdout",
     "output_type": "stream",
     "text": [
      "Your password is correct\n"
     ]
    }
   ],
   "source": [
    "pw = \"HOPE@123\"\n",
    "pw1 = input(\"Enter the password: \")\n",
    "if (pw==pw1):\n",
    "    print (\"Your password is correct\")\n",
    "else:\n",
    "    print(\"Your password wrong!!! try again\")"
   ]
  },
  {
   "cell_type": "code",
   "execution_count": null,
   "id": "e044d7de-37e9-4bea-8c0e-8269decfb513",
   "metadata": {},
   "outputs": [],
   "source": [
    "# Catagory the people by their age like children , adult, citizen, senior citizen"
   ]
  },
  {
   "cell_type": "code",
   "execution_count": 9,
   "id": "bcbbe1df-5e49-4e61-b806-7742eaf5e729",
   "metadata": {},
   "outputs": [
    {
     "name": "stdin",
     "output_type": "stream",
     "text": [
      "Enter Your Age :  20\n"
     ]
    },
    {
     "name": "stdout",
     "output_type": "stream",
     "text": [
      "Your are ADULT\n"
     ]
    }
   ],
   "source": [
    "age = int(input(\"Enter Your Age : \"))\n",
    "if age<18:\n",
    "    print (\"Your are CHILDREN\")\n",
    "elif age<35:\n",
    "    print (\"Your are ADULT\")\n",
    "elif age<59:\n",
    "    print (\"Your are CITIZEN\")\n",
    "else:\n",
    "    print (\"Your are SENIOR CITIZEN\")"
   ]
  },
  {
   "cell_type": "code",
   "execution_count": 11,
   "id": "e7635a1b-d782-4b8c-bfb7-3fa2ef7c0964",
   "metadata": {},
   "outputs": [],
   "source": [
    "# Find whether given number is positive or negative"
   ]
  },
  {
   "cell_type": "code",
   "execution_count": 23,
   "id": "ae7670ca-e3f8-4091-8660-5d174c26e367",
   "metadata": {},
   "outputs": [
    {
     "name": "stdin",
     "output_type": "stream",
     "text": [
      "Enter any Number:  1\n"
     ]
    },
    {
     "name": "stdout",
     "output_type": "stream",
     "text": [
      "No is Positive\n"
     ]
    }
   ],
   "source": [
    "num = int(input(\"Enter any Number: \"))\n",
    "if num > 0:\n",
    "    print (\"No is Positive\")\n",
    "elif num < 0 :\n",
    "    print (\"No is Negative\")\n",
    "else:\n",
    "    print (\"You entered ZERO\")"
   ]
  },
  {
   "cell_type": "code",
   "execution_count": 25,
   "id": "78646205-3c6d-4ec6-8d92-7b523a93b44a",
   "metadata": {},
   "outputs": [],
   "source": [
    "# Check whether the given number is divisible by 5"
   ]
  },
  {
   "cell_type": "code",
   "execution_count": 37,
   "id": "1d7d6e10-3582-4e0b-a4d2-4df21d57e38f",
   "metadata": {},
   "outputs": [
    {
     "name": "stdin",
     "output_type": "stream",
     "text": [
      "Enter a number to check:  22\n"
     ]
    },
    {
     "name": "stdout",
     "output_type": "stream",
     "text": [
      "No is not Divisible by 5\n"
     ]
    }
   ],
   "source": [
    "num = int(input(\"Enter a number to check: \"))\n",
    "if (num % 5)==0:\n",
    "    print (\"No is Divisible by 5\")\n",
    "else:\n",
    "    print (\"No is not Divisible by 5\")"
   ]
  },
  {
   "cell_type": "code",
   "execution_count": null,
   "id": "4fb4ff6d-92ea-4200-8bf9-6cc11ac1078e",
   "metadata": {},
   "outputs": [],
   "source": []
  }
 ],
 "metadata": {
  "kernelspec": {
   "display_name": "Python [conda env:base] *",
   "language": "python",
   "name": "conda-base-py"
  },
  "language_info": {
   "codemirror_mode": {
    "name": "ipython",
    "version": 3
   },
   "file_extension": ".py",
   "mimetype": "text/x-python",
   "name": "python",
   "nbconvert_exporter": "python",
   "pygments_lexer": "ipython3",
   "version": "3.12.7"
  }
 },
 "nbformat": 4,
 "nbformat_minor": 5
}
