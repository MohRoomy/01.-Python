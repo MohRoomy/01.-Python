{
 "cells": [
  {
   "cell_type": "code",
   "execution_count": 1,
   "id": "188f960a-547f-42b4-8b90-fc2f422aced8",
   "metadata": {},
   "outputs": [
    {
     "name": "stdout",
     "output_type": "stream",
     "text": [
      "40\n"
     ]
    }
   ],
   "source": [
    "num1=10\n",
    "num2=30\n",
    "add=num1+num2\n",
    "print(add)"
   ]
  },
  {
   "cell_type": "code",
   "execution_count": 3,
   "id": "062a2d4d-714d-46d4-9469-ed5dbe71bda6",
   "metadata": {},
   "outputs": [
    {
     "ename": "SyntaxError",
     "evalue": "invalid syntax (2021354258.py, line 1)",
     "output_type": "error",
     "traceback": [
      "\u001b[1;36m  Cell \u001b[1;32mIn[3], line 1\u001b[1;36m\u001b[0m\n\u001b[1;33m    first name = \"Mohamed Roomy\"\u001b[0m\n\u001b[1;37m          ^\u001b[0m\n\u001b[1;31mSyntaxError\u001b[0m\u001b[1;31m:\u001b[0m invalid syntax\n"
     ]
    }
   ],
   "source": [
    "first name = \"Mohamed Roomy\""
   ]
  },
  {
   "cell_type": "code",
   "execution_count": 5,
   "id": "287d1d2c-82d2-45af-bb41-3e4fb8c0534a",
   "metadata": {},
   "outputs": [],
   "source": [
    "First_Name=\"Roomy\"\n",
    "FristName=\"AI\"\n",
    "firstName=\"Hello\""
   ]
  },
  {
   "cell_type": "code",
   "execution_count": 9,
   "id": "b14e4760-c2c9-41f0-87de-2e6308ce5882",
   "metadata": {},
   "outputs": [
    {
     "name": "stdout",
     "output_type": "stream",
     "text": [
      "The addition of two numbers\n",
      "The number1 :  10\n",
      "The number2 :  20\n",
      "The Answer  :  30\n"
     ]
    }
   ],
   "source": [
    "num1=10\n",
    "num2=20\n",
    "add=num1+num2\n",
    "print(\"The addition of two numbers\")\n",
    "print (\"The number1 : \",num1)\n",
    "print (\"The number2 : \",num2)\n",
    "print (\"The Answer  : \",add)"
   ]
  },
  {
   "cell_type": "code",
   "execution_count": 13,
   "id": "81e9f7cc-d47d-4bb1-a6de-171af659f71c",
   "metadata": {},
   "outputs": [
    {
     "name": "stdin",
     "output_type": "stream",
     "text": [
      "Enter number1:  10\n",
      "Enter number2:  10\n"
     ]
    },
    {
     "name": "stdout",
     "output_type": "stream",
     "text": [
      "The addition of two numbers\n",
      "The Answer  :  1010\n"
     ]
    }
   ],
   "source": [
    "num1= input(\"Enter number1: \")\n",
    "num2= input(\"Enter number2: \")\n",
    "add=num1+num2\n",
    "print(\"The addition of two numbers\")\n",
    "print (\"The Answer  : \",add)"
   ]
  },
  {
   "cell_type": "code",
   "execution_count": 17,
   "id": "e3de52ec-9722-4241-95ba-0f5710a75a0c",
   "metadata": {},
   "outputs": [
    {
     "name": "stdout",
     "output_type": "stream",
     "text": [
      "The addition of two numbers\n"
     ]
    },
    {
     "name": "stdin",
     "output_type": "stream",
     "text": [
      "Enter number1:  10\n",
      "Enter number2:  45\n"
     ]
    },
    {
     "name": "stdout",
     "output_type": "stream",
     "text": [
      "The Answer  :  55\n"
     ]
    }
   ],
   "source": [
    "print(\"The addition of two numbers\")\n",
    "num1= int(input(\"Enter number1: \"))\n",
    "num2= int(input(\"Enter number2: \"))\n",
    "add=num1+num2\n",
    "print (\"The Answer  : \",add)"
   ]
  },
  {
   "cell_type": "code",
   "execution_count": 19,
   "id": "97ae013b-bf8e-4f2f-8961-613ca3c363e8",
   "metadata": {},
   "outputs": [
    {
     "ename": "SyntaxError",
     "evalue": "'(' was never closed (938639519.py, line 3)",
     "output_type": "error",
     "traceback": [
      "\u001b[1;36m  Cell \u001b[1;32mIn[19], line 3\u001b[1;36m\u001b[0m\n\u001b[1;33m    num2= int(input(\"Enter number2: \")\u001b[0m\n\u001b[1;37m             ^\u001b[0m\n\u001b[1;31mSyntaxError\u001b[0m\u001b[1;31m:\u001b[0m '(' was never closed\n"
     ]
    }
   ],
   "source": [
    "print(\"The addition of two numbers\")\n",
    "num1= int(input(\"Enter number1: \"))\n",
    "num2= int(input(\"Enter number2: \")\n",
    "add=num1+num2\n",
    "print (\"The Answer  : \",add)"
   ]
  },
  {
   "cell_type": "code",
   "execution_count": 3,
   "id": "3ddf389e-adf9-4716-9366-3507caa319e5",
   "metadata": {},
   "outputs": [
    {
     "name": "stdin",
     "output_type": "stream",
     "text": [
      "Enter Your Name:  123\n"
     ]
    }
   ],
   "source": [
    "nam=int(input(\"Enter Your Name: \"))"
   ]
  },
  {
   "cell_type": "code",
   "execution_count": null,
   "id": "137e0986-6bd3-42c9-8c7d-3fdc72a1b30b",
   "metadata": {},
   "outputs": [],
   "source": []
  }
 ],
 "metadata": {
  "kernelspec": {
   "display_name": "Python [conda env:base] *",
   "language": "python",
   "name": "conda-base-py"
  },
  "language_info": {
   "codemirror_mode": {
    "name": "ipython",
    "version": 3
   },
   "file_extension": ".py",
   "mimetype": "text/x-python",
   "name": "python",
   "nbconvert_exporter": "python",
   "pygments_lexer": "ipython3",
   "version": "3.12.7"
  }
 },
 "nbformat": 4,
 "nbformat_minor": 5
}
