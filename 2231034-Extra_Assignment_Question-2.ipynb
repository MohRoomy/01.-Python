{
 "cells": [
  {
   "cell_type": "code",
   "execution_count": 1,
   "id": "a7f945c5-9f79-4f2d-9114-6a729c196102",
   "metadata": {},
   "outputs": [],
   "source": [
    "# print 0 to 20 by using range"
   ]
  },
  {
   "cell_type": "code",
   "execution_count": 3,
   "id": "d47793ae-0784-4c2a-b359-d60eda63d9fa",
   "metadata": {},
   "outputs": [
    {
     "name": "stdout",
     "output_type": "stream",
     "text": [
      "0\n",
      "1\n",
      "2\n",
      "3\n",
      "4\n",
      "5\n",
      "6\n",
      "7\n",
      "8\n",
      "9\n",
      "10\n",
      "11\n",
      "12\n",
      "13\n",
      "14\n",
      "15\n",
      "16\n",
      "17\n",
      "18\n",
      "19\n"
     ]
    }
   ],
   "source": [
    "for num in range (0,20):\n",
    "    print(num)"
   ]
  },
  {
   "cell_type": "code",
   "execution_count": 11,
   "id": "1c8188e4-b77d-4403-9f37-d6d7e096f7f2",
   "metadata": {},
   "outputs": [],
   "source": [
    "# print range 10 to 20"
   ]
  },
  {
   "cell_type": "code",
   "execution_count": 15,
   "id": "16aee8e5-65bf-4d9e-bab4-e024631749f4",
   "metadata": {},
   "outputs": [
    {
     "name": "stdout",
     "output_type": "stream",
     "text": [
      "10 11 12 13 14 15 16 17 18 19 "
     ]
    }
   ],
   "source": [
    "for num in range (10,20):\n",
    "    print(num, end=\" \")"
   ]
  },
  {
   "cell_type": "code",
   "execution_count": 18,
   "id": "b4d77e84-5516-44d3-8dfd-59aaeae4052c",
   "metadata": {},
   "outputs": [],
   "source": [
    "# print number of items in the list by using 'len'"
   ]
  },
  {
   "cell_type": "code",
   "execution_count": 28,
   "id": "85d60c25-f35b-45ed-a0f3-b6f4bb1f89aa",
   "metadata": {},
   "outputs": [
    {
     "name": "stdout",
     "output_type": "stream",
     "text": [
      "[10, 20, 14, 55, 43, 87, 76]\n",
      "Number of item in the List2: \n",
      " 7\n"
     ]
    }
   ],
   "source": [
    "lists2 = [10,20,14,55,43,87,76]\n",
    "print (lists2)\n",
    "print (\"Number of item in the List2: \\n\",len(lists2))\n"
   ]
  },
  {
   "cell_type": "code",
   "execution_count": 30,
   "id": "6cbc6cac-fb4d-4a73-a4b1-bd53f27273cb",
   "metadata": {},
   "outputs": [
    {
     "name": "stdout",
     "output_type": "stream",
     "text": [
      "Artificial Intelligence\n",
      "A\n",
      "r\n",
      "t\n",
      "i\n",
      "f\n",
      "i\n",
      "c\n",
      "i\n",
      "a\n",
      "l\n",
      " \n",
      "I\n",
      "n\n",
      "t\n",
      "e\n",
      "l\n",
      "l\n",
      "i\n",
      "g\n",
      "e\n",
      "n\n",
      "c\n",
      "e\n"
     ]
    }
   ],
   "source": [
    "text1=\"Artificial Intelligence\"\n",
    "print(text1)\n",
    "for a in text1:\n",
    "    print (a)"
   ]
  },
  {
   "cell_type": "code",
   "execution_count": 34,
   "id": "76f39e77-0c9d-4b89-a8dd-9b98b7077366",
   "metadata": {},
   "outputs": [
    {
     "name": "stdout",
     "output_type": "stream",
     "text": [
      "- Your Name - AMW Roomy \n",
      "- Your Age - 49\n",
      "- Your Profession - Application Support Engineer\n"
     ]
    }
   ],
   "source": [
    "print (\"- Your Name - AMW Roomy \")\n",
    "print (\"- Your Age - 49\")\n",
    "print (\"- Your Profession - Application Support Engineer\")"
   ]
  },
  {
   "cell_type": "code",
   "execution_count": 36,
   "id": "de71425a-ffde-453b-9381-da726a1d19f9",
   "metadata": {},
   "outputs": [
    {
     "name": "stdout",
     "output_type": "stream",
     "text": [
      "(1, 'Welcome', 2, 'Hope')\n"
     ]
    }
   ],
   "source": [
    "tuples = (1, \"Welcome\", 2, \"Hope\")\n",
    "print (tuples)"
   ]
  },
  {
   "cell_type": "code",
   "execution_count": 48,
   "id": "a754fed5-35df-44d5-bf0b-fd3384bef53c",
   "metadata": {},
   "outputs": [
    {
     "name": "stdout",
     "output_type": "stream",
     "text": [
      "((0, 1, 2, 3), ('python', 'HOPE'))\n"
     ]
    }
   ],
   "source": [
    "tuples1 = (0,1,2,3)\n",
    "tuples2= (\"python\",\"HOPE\")\n",
    "tuples3 = (tuples1, tuples2)\n",
    "print (tuples3)"
   ]
  },
  {
   "cell_type": "code",
   "execution_count": null,
   "id": "c839a9d4-ae5a-47ba-a6e4-8f93319dd2e0",
   "metadata": {},
   "outputs": [],
   "source": [
    "# print odd numbers in the list"
   ]
  },
  {
   "cell_type": "code",
   "execution_count": 52,
   "id": "78c23eec-84a1-4ad5-ac28-e21a628c29c0",
   "metadata": {},
   "outputs": [
    {
     "name": "stdout",
     "output_type": "stream",
     "text": [
      "19  is odd\n",
      "25  is odd\n",
      "1  is odd\n"
     ]
    }
   ],
   "source": [
    "lists = (20,10,16,19,25,1,276,188)\n",
    "for odd1 in lists:\n",
    "    if (odd1 % 2)==1:\n",
    "        print (odd1,\" is odd\")"
   ]
  },
  {
   "cell_type": "code",
   "execution_count": 54,
   "id": "b187dbcc-7530-4b51-8d97-769723159fe5",
   "metadata": {},
   "outputs": [],
   "source": [
    "# print Even numbers in the list"
   ]
  },
  {
   "cell_type": "code",
   "execution_count": 56,
   "id": "87912507-c580-444d-94d2-34f772956b86",
   "metadata": {},
   "outputs": [
    {
     "name": "stdout",
     "output_type": "stream",
     "text": [
      "20  is even\n",
      "10  is even\n",
      "16  is even\n",
      "276  is even\n",
      "188  is even\n"
     ]
    }
   ],
   "source": [
    "lists = (20,10,16,19,25,1,276,188)\n",
    "for odd1 in lists:\n",
    "    if (odd1 % 2)==0:\n",
    "        print (odd1,\" is even\")"
   ]
  },
  {
   "cell_type": "code",
   "execution_count": null,
   "id": "75429393-06e9-4caa-9f6d-67fa31a5c733",
   "metadata": {},
   "outputs": [],
   "source": []
  }
 ],
 "metadata": {
  "kernelspec": {
   "display_name": "Python [conda env:base] *",
   "language": "python",
   "name": "conda-base-py"
  },
  "language_info": {
   "codemirror_mode": {
    "name": "ipython",
    "version": 3
   },
   "file_extension": ".py",
   "mimetype": "text/x-python",
   "name": "python",
   "nbconvert_exporter": "python",
   "pygments_lexer": "ipython3",
   "version": "3.12.7"
  }
 },
 "nbformat": 4,
 "nbformat_minor": 5
}
