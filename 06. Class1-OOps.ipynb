{
 "cells": [
  {
   "cell_type": "code",
   "execution_count": 11,
   "id": "2fb07d0c-7897-4a6d-8e55-3975f0dc2122",
   "metadata": {},
   "outputs": [],
   "source": [
    "def AgeCategory():\n",
    "    \n",
    "    if (age<18):\n",
    "        print (\"Your are Children\")\n",
    "        cate = \"Your are Children\"\n",
    "    elif (age<35):\n",
    "        print(\"Your are Adult\")\n",
    "        cate = \"Your are Adult\"\n",
    "    elif (age<59):\n",
    "        print(\"Your are Citizen\")\n",
    "        cate = \"Your are Citizen\"\n",
    "    else:\n",
    "        print(\"Your are Senior Citizen\")\n",
    "        cate = \"Your are Senior Citizen\"\n",
    "    return cate"
   ]
  },
  {
   "cell_type": "code",
   "execution_count": 13,
   "id": "d6c5a4df-9447-4bc6-8679-a5fe94b7a979",
   "metadata": {},
   "outputs": [
    {
     "name": "stdin",
     "output_type": "stream",
     "text": [
      "Enter Your Age:  25\n"
     ]
    },
    {
     "name": "stdout",
     "output_type": "stream",
     "text": [
      "Your are Adult\n"
     ]
    }
   ],
   "source": [
    "age=int(input(\"Enter Your Age: \"))\n",
    "agecate = AgeCategory()"
   ]
  },
  {
   "cell_type": "code",
   "execution_count": 25,
   "id": "3232a240-7410-4c36-9cd1-57db20e8d810",
   "metadata": {},
   "outputs": [],
   "source": [
    "def AgeCategoryNoR():\n",
    "    \n",
    "    if (age<18):\n",
    "        print (\"Your are Children\")\n",
    "        cate = \"Your are Children\"\n",
    "    elif (age<35):\n",
    "        print(\"Your are Adult\")\n",
    "        cate = \"Your are Adult\"\n",
    "    elif (age<59):\n",
    "        print(\"Your are Citizen\")\n",
    "        cate = \"Your are Citizen\"\n",
    "    else:\n",
    "        print(\"Your are Senior Citizen\")\n",
    "        cate = \"Your are Senior Citizen\"\n"
   ]
  },
  {
   "cell_type": "code",
   "execution_count": 27,
   "id": "bb168c3a-6e3a-41d8-a406-3e86b186b9fe",
   "metadata": {},
   "outputs": [
    {
     "name": "stdin",
     "output_type": "stream",
     "text": [
      "Enter Your Age:  10\n"
     ]
    },
    {
     "name": "stdout",
     "output_type": "stream",
     "text": [
      "Your are Children\n"
     ]
    }
   ],
   "source": [
    "age=int(input(\"Enter Your Age: \"))\n",
    "agecate = AgeCategoryNoR()"
   ]
  },
  {
   "cell_type": "code",
   "execution_count": 29,
   "id": "724dc724-6fe4-40a8-a663-744c110c4958",
   "metadata": {},
   "outputs": [
    {
     "name": "stdout",
     "output_type": "stream",
     "text": [
      "None\n"
     ]
    }
   ],
   "source": [
    "print (agecate)"
   ]
  },
  {
   "cell_type": "code",
   "execution_count": 33,
   "id": "5890d356-734d-4ecb-81bc-a6d7a7e71810",
   "metadata": {},
   "outputs": [
    {
     "name": "stdin",
     "output_type": "stream",
     "text": [
      "Enter Your Age:  87\n"
     ]
    },
    {
     "name": "stdout",
     "output_type": "stream",
     "text": [
      "Your are Senior Citizen\n"
     ]
    }
   ],
   "source": [
    "age=int(input(\"Enter Your Age: \"))\n",
    "agecate = AgeCategory()"
   ]
  },
  {
   "cell_type": "code",
   "execution_count": 43,
   "id": "01002845-8c65-4d65-abe8-ed5b3cedb225",
   "metadata": {},
   "outputs": [],
   "source": [
    "def OddEven():\n",
    "    num = int(input(\"Enter the Number: \"))\n",
    "    if ((num%2)==0):\n",
    "        message = \"EVEN\"\n",
    "    else:\n",
    "        message = \"ODD\"\n",
    "    return message\n"
   ]
  },
  {
   "cell_type": "code",
   "execution_count": 45,
   "id": "7491d89b-f511-4e89-8fba-42cdcd5f10ab",
   "metadata": {},
   "outputs": [
    {
     "name": "stdin",
     "output_type": "stream",
     "text": [
      "Enter the Number:  13\n"
     ]
    },
    {
     "name": "stdout",
     "output_type": "stream",
     "text": [
      "ODD\n"
     ]
    }
   ],
   "source": [
    "oe = OddEven()\n",
    "print (oe)"
   ]
  },
  {
   "cell_type": "code",
   "execution_count": 47,
   "id": "c4bd125c-a77e-424f-9e96-17a7a45152af",
   "metadata": {},
   "outputs": [
    {
     "name": "stdout",
     "output_type": "stream",
     "text": [
      "Your Given Number is ODD\n"
     ]
    }
   ],
   "source": [
    "if (oe==\"EVEN\"):\n",
    "    print (\"Your Given Number is EVEN\")\n",
    "else:\n",
    "    print (\"Your Given Number is ODD\")"
   ]
  },
  {
   "cell_type": "code",
   "execution_count": 51,
   "id": "f6b7d02b-f651-45e7-bac6-a891d3160941",
   "metadata": {},
   "outputs": [],
   "source": [
    "def BMI():\n",
    "    BMI = float(input(\"Enter The Your BMI Index : \"))\n",
    "    if BMI < 16:\n",
    "        text = (\"Your Severe Thinness\")\n",
    "    elif BMI < 17:\n",
    "        text = (\"Your Moderate Thinness\")\n",
    "    elif BMI < 18.5:\n",
    "        text = (\"Your Mild Thinness\")\n",
    "    elif BMI < 25:\n",
    "        text = (\"Your Normal Weight\")\n",
    "    elif BMI < 30:\n",
    "        text = (\"Your Overweight\")\n",
    "    else:\n",
    "        text = (\"Your Very Overweight\")\n",
    "    return text\n",
    "        "
   ]
  },
  {
   "cell_type": "code",
   "execution_count": 65,
   "id": "39566a75-d1bc-425a-ad49-21fc4c9fed2b",
   "metadata": {},
   "outputs": [
    {
     "name": "stdin",
     "output_type": "stream",
     "text": [
      "Enter The Your BMI Index :  34\n"
     ]
    },
    {
     "name": "stdout",
     "output_type": "stream",
     "text": [
      "Your Very Overweight\n"
     ]
    }
   ],
   "source": [
    "bmi=BMI()\n",
    "print (bmi)"
   ]
  },
  {
   "cell_type": "code",
   "execution_count": 67,
   "id": "1471921d-f067-4d5d-b059-6885d97a179d",
   "metadata": {},
   "outputs": [],
   "source": [
    "def Addition(num1,num2):\n",
    "    add = num1+num2\n",
    "    return add\n",
    "    \n",
    "    "
   ]
  },
  {
   "cell_type": "code",
   "execution_count": 77,
   "id": "0154b72c-0506-42b0-8af0-afd90ad7b404",
   "metadata": {},
   "outputs": [
    {
     "data": {
      "text/plain": [
       "46"
      ]
     },
     "execution_count": 77,
     "metadata": {},
     "output_type": "execute_result"
    }
   ],
   "source": [
    "Addition(12,34)"
   ]
  },
  {
   "cell_type": "code",
   "execution_count": 75,
   "id": "d5b90cec-145f-4091-9628-85e3d5090c2f",
   "metadata": {},
   "outputs": [],
   "source": [
    "def Subst(num1,num2):\n",
    "    sub= num1-num2\n",
    "    return sub"
   ]
  },
  {
   "cell_type": "code",
   "execution_count": 79,
   "id": "483307ae-dca7-48b2-801d-d087560bcace",
   "metadata": {},
   "outputs": [
    {
     "data": {
      "text/plain": [
       "78"
      ]
     },
     "execution_count": 79,
     "metadata": {},
     "output_type": "execute_result"
    }
   ],
   "source": [
    "Subst(112,34)"
   ]
  },
  {
   "cell_type": "code",
   "execution_count": 81,
   "id": "577f0363-6a36-4a9d-a294-98d94ce83060",
   "metadata": {},
   "outputs": [],
   "source": [
    "def Mult(num1,num2):\n",
    "    mul= num1*num2\n",
    "    return mul"
   ]
  },
  {
   "cell_type": "code",
   "execution_count": 83,
   "id": "6c3e9aa1-82e5-441a-bc51-491b6c034fff",
   "metadata": {},
   "outputs": [
    {
     "data": {
      "text/plain": [
       "10"
      ]
     },
     "execution_count": 83,
     "metadata": {},
     "output_type": "execute_result"
    }
   ],
   "source": [
    "Mult(2,5)"
   ]
  },
  {
   "cell_type": "code",
   "execution_count": 85,
   "id": "9448fdd7-d4b4-4f57-9e6c-c315fe20273f",
   "metadata": {},
   "outputs": [],
   "source": [
    "def Devid(num1,num2):\n",
    "    dev = num1/num2\n",
    "    return dev"
   ]
  },
  {
   "cell_type": "code",
   "execution_count": 87,
   "id": "2907fe1f-b1f5-4a4f-aac0-1b151309611b",
   "metadata": {},
   "outputs": [
    {
     "data": {
      "text/plain": [
       "25.0"
      ]
     },
     "execution_count": 87,
     "metadata": {},
     "output_type": "execute_result"
    }
   ],
   "source": [
    "Devid(100,4)"
   ]
  },
  {
   "cell_type": "code",
   "execution_count": 1,
   "id": "d62367cb-8721-4962-81ce-9ed4299965ea",
   "metadata": {},
   "outputs": [],
   "source": [
    "class Calculator():\n",
    "    def OddEven():\n",
    "        num = int(input(\"Enter the Number: \"))\n",
    "        if ((num%2)==0):\n",
    "            message = \"EVEN\"\n",
    "        else:\n",
    "            message = \"ODD\"\n",
    "        return message\n",
    "    def Addition(num1,num2):\n",
    "        add = num1+num2\n",
    "        return add\n",
    "    def Subst(num1,num2):\n",
    "        sub= num1-num2\n",
    "        return sub\n",
    "    def Mult(num1,num2):\n",
    "        mul= num1*num2\n",
    "        return mul\n",
    "    def Devid(num1,num2):\n",
    "        dev = num1/num2\n",
    "        return dev\n",
    "    def BMI():\n",
    "        BMI = float(input(\"Enter The Your BMI Index : \"))\n",
    "        if BMI < 16:\n",
    "            text = (\"Your Severe Thinness\")\n",
    "        elif BMI < 17:\n",
    "            text = (\"Your Moderate Thinness\")\n",
    "        elif BMI < 18.5:\n",
    "            text = (\"Your Mild Thinness\")\n",
    "        elif BMI < 25:\n",
    "            text = (\"Your Normal Weight\")\n",
    "        elif BMI < 30:\n",
    "            text = (\"Your Overweight\")\n",
    "        else:\n",
    "            text = (\"Your Very Overweight\")\n",
    "        return text\n",
    "        \n",
    "        "
   ]
  },
  {
   "cell_type": "code",
   "execution_count": 5,
   "id": "dd15a0bf-b2c6-4b03-9bad-ae8d117972fb",
   "metadata": {},
   "outputs": [
    {
     "name": "stdin",
     "output_type": "stream",
     "text": [
      "Enter the Number:  245\n"
     ]
    },
    {
     "name": "stdout",
     "output_type": "stream",
     "text": [
      "ODD\n"
     ]
    }
   ],
   "source": [
    "result1 = Calculator.OddEven()\n",
    "print (result1)"
   ]
  },
  {
   "cell_type": "code",
   "execution_count": 7,
   "id": "f2fadd6b-9bb3-4919-9448-dcf81be5ab89",
   "metadata": {},
   "outputs": [
    {
     "name": "stdin",
     "output_type": "stream",
     "text": [
      "Enter The Your BMI Index :  34\n"
     ]
    },
    {
     "name": "stdout",
     "output_type": "stream",
     "text": [
      "Your Very Overweight\n"
     ]
    }
   ],
   "source": [
    "result2 = Calculator.BMI()\n",
    "print (result2)"
   ]
  },
  {
   "cell_type": "code",
   "execution_count": 9,
   "id": "f36a2dc7-b907-4c41-bd4b-ab811bbef319",
   "metadata": {},
   "outputs": [
    {
     "name": "stdout",
     "output_type": "stream",
     "text": [
      "15\n"
     ]
    }
   ],
   "source": [
    "result3 = Calculator.Addition(5,10)\n",
    "print (result3)"
   ]
  },
  {
   "cell_type": "code",
   "execution_count": 11,
   "id": "4d196c1c-f0ad-4c72-b477-eede31754488",
   "metadata": {},
   "outputs": [
    {
     "name": "stdout",
     "output_type": "stream",
     "text": [
      "5\n"
     ]
    }
   ],
   "source": [
    "result4 = Calculator.Subst(15,10)\n",
    "print (result4)"
   ]
  },
  {
   "cell_type": "code",
   "execution_count": null,
   "id": "76b36979-8649-46b4-819e-8c99efea5801",
   "metadata": {},
   "outputs": [],
   "source": []
  }
 ],
 "metadata": {
  "kernelspec": {
   "display_name": "Python [conda env:base] *",
   "language": "python",
   "name": "conda-base-py"
  },
  "language_info": {
   "codemirror_mode": {
    "name": "ipython",
    "version": 3
   },
   "file_extension": ".py",
   "mimetype": "text/x-python",
   "name": "python",
   "nbconvert_exporter": "python",
   "pygments_lexer": "ipython3",
   "version": "3.12.7"
  }
 },
 "nbformat": 4,
 "nbformat_minor": 5
}
