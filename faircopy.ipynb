{
 "cells": [
  {
   "cell_type": "code",
   "execution_count": 5,
   "id": "bcfcb4cd-0102-483a-9154-f6d527a50d08",
   "metadata": {},
   "outputs": [],
   "source": [
    "from MultipleFunctions import Calculator\n",
    "# from file name import class name"
   ]
  },
  {
   "cell_type": "code",
   "execution_count": 9,
   "id": "55613336-317c-4b59-9aa1-5e1846c29e16",
   "metadata": {},
   "outputs": [
    {
     "name": "stdin",
     "output_type": "stream",
     "text": [
      "Enter The Your BMI Index :  34\n"
     ]
    },
    {
     "data": {
      "text/plain": [
       "'Your Very Overweight'"
      ]
     },
     "execution_count": 9,
     "metadata": {},
     "output_type": "execute_result"
    }
   ],
   "source": [
    "Calculator.BMI()"
   ]
  },
  {
   "cell_type": "code",
   "execution_count": 13,
   "id": "0e6e6bff-4eed-49b5-9e2b-d2f49a932ba9",
   "metadata": {},
   "outputs": [
    {
     "data": {
      "text/plain": [
       "57"
      ]
     },
     "execution_count": 13,
     "metadata": {},
     "output_type": "execute_result"
    }
   ],
   "source": [
    "Calculator.Addition(34,23)"
   ]
  },
  {
   "cell_type": "code",
   "execution_count": 15,
   "id": "32c6ee1b-c6d1-4a74-8cbf-2dfd6ddc7017",
   "metadata": {},
   "outputs": [
    {
     "name": "stdin",
     "output_type": "stream",
     "text": [
      "Enter the Number:  11\n"
     ]
    },
    {
     "data": {
      "text/plain": [
       "'ODD'"
      ]
     },
     "execution_count": 15,
     "metadata": {},
     "output_type": "execute_result"
    }
   ],
   "source": [
    "Calculator.OddEven()"
   ]
  },
  {
   "cell_type": "code",
   "execution_count": null,
   "id": "43af8711-b0e8-4390-87f3-a6b6ea2f32ce",
   "metadata": {},
   "outputs": [],
   "source": []
  }
 ],
 "metadata": {
  "kernelspec": {
   "display_name": "Python [conda env:base] *",
   "language": "python",
   "name": "conda-base-py"
  },
  "language_info": {
   "codemirror_mode": {
    "name": "ipython",
    "version": 3
   },
   "file_extension": ".py",
   "mimetype": "text/x-python",
   "name": "python",
   "nbconvert_exporter": "python",
   "pygments_lexer": "ipython3",
   "version": "3.12.7"
  }
 },
 "nbformat": 4,
 "nbformat_minor": 5
}
