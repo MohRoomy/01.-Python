{
 "cells": [
  {
   "cell_type": "code",
   "execution_count": 1,
   "id": "2b0d7e04-7207-424f-b5a2-2aa37278e06c",
   "metadata": {},
   "outputs": [],
   "source": [
    "# Create a class and function, and list out the items in the list"
   ]
  },
  {
   "cell_type": "code",
   "execution_count": 5,
   "id": "49208a5e-e309-4d12-8275-08610a61c9be",
   "metadata": {},
   "outputs": [],
   "source": [
    "def Subfields():\n",
    "    print (\"Sub-fields in AI are:\")\n",
    "    lists = ['Machine Learning','Neural Networks','Vision','Robotics','Speech Processing','Natural Language Processing']\n",
    "    for SAI in lists:\n",
    "        print (SAI)\n"
   ]
  },
  {
   "cell_type": "code",
   "execution_count": 7,
   "id": "5aa813ff-f8b0-435e-ab44-7b73eaf6e1c9",
   "metadata": {},
   "outputs": [
    {
     "name": "stdout",
     "output_type": "stream",
     "text": [
      "Sub-fields in AI are:\n",
      "Machine Learning\n",
      "Neural Networks\n",
      "Vision\n",
      "Robotics\n",
      "Speech Processing\n",
      "Natural Language Processing\n"
     ]
    }
   ],
   "source": [
    "Subfields()"
   ]
  },
  {
   "cell_type": "code",
   "execution_count": 9,
   "id": "9f3dfafc-c017-4178-ac27-5f2a89c807e9",
   "metadata": {},
   "outputs": [],
   "source": [
    "# Create a function that checks whether the given number is Odd or Even"
   ]
  },
  {
   "cell_type": "code",
   "execution_count": 23,
   "id": "cd66ffc0-0a21-459b-8c4c-264b506d550c",
   "metadata": {},
   "outputs": [],
   "source": [
    "def OddEven():\n",
    "    num1 = int(input(\"Enter a Numebr to Check: \"))\n",
    "    if (num1%2)==1:\n",
    "        print (num1, \"is ODD Numebr\")\n",
    "    else:\n",
    "        print (num1,\"is EVEN Numebr\")\n",
    "        "
   ]
  },
  {
   "cell_type": "code",
   "execution_count": 131,
   "id": "c94c097a-6f25-40e1-8513-7430e4e39a6e",
   "metadata": {},
   "outputs": [
    {
     "name": "stdin",
     "output_type": "stream",
     "text": [
      "Enter a Numebr to Check:  52452\n"
     ]
    },
    {
     "name": "stdout",
     "output_type": "stream",
     "text": [
      "52452 is EVEN Numebr\n"
     ]
    }
   ],
   "source": [
    "OddEven()"
   ]
  },
  {
   "cell_type": "code",
   "execution_count": 29,
   "id": "21febe82-faeb-45a1-860e-d406a5f1d6e4",
   "metadata": {},
   "outputs": [],
   "source": [
    "#Create a function that tells elegibility of marriage for male and female according to their age limit like 21 for male and 18 for female"
   ]
  },
  {
   "cell_type": "code",
   "execution_count": 31,
   "id": "41ccb5fe-6aec-4dc2-9ad2-6b9928707df7",
   "metadata": {},
   "outputs": [],
   "source": [
    "def Eligible():\n",
    "    gender = input(\"Enter Your Gender: \")\n",
    "    age = int(input (\"Enter Your Age: \"))\n",
    "    if (gender==\"MALE\" or gender == \"male\"):\n",
    "        if (age >=21):\n",
    "            print (\"ELIGIBLE\")\n",
    "        else:\n",
    "            print (\"NOT ELIGIBLE\")\n",
    "    elif (gender==\"FEMALE\" or gender == \"female\"):\n",
    "        if (age >=18):\n",
    "            print (\"ELIGIBLE\")\n",
    "        else:\n",
    "            print (\"NOT ELIGIBLE\")\n",
    "    else:\n",
    "        print (\"Invalid Input !!!!!!\")\n",
    "    "
   ]
  },
  {
   "cell_type": "code",
   "execution_count": 43,
   "id": "1bb641d3-3dd8-44cb-9a2b-59820c8dd571",
   "metadata": {},
   "outputs": [
    {
     "name": "stdin",
     "output_type": "stream",
     "text": [
      "Enter Your Gender:  MALE\n",
      "Enter Your Age:  20\n"
     ]
    },
    {
     "name": "stdout",
     "output_type": "stream",
     "text": [
      "NOT ELIGIBLE\n"
     ]
    }
   ],
   "source": [
    "Eligible()"
   ]
  },
  {
   "cell_type": "code",
   "execution_count": 45,
   "id": "7c38dfe5-304b-40ae-8df0-a61e232547e6",
   "metadata": {},
   "outputs": [],
   "source": [
    "# calculate the percentage of your 10th mark"
   ]
  },
  {
   "cell_type": "code",
   "execution_count": 101,
   "id": "cbe0b301-278f-4c67-b9b1-bcc7b89ff5bc",
   "metadata": {},
   "outputs": [],
   "source": [
    "def percentage():\n",
    "    mk1 = int(input(\"Subject1= \"))\n",
    "    mk2 = int(input(\"Subject2= \"))\n",
    "    mk3 = int(input(\"Subject3= \"))\n",
    "    mk4 = int(input(\"Subject4= \"))\n",
    "    mk5 = int(input(\"Subject5= \"))\n",
    "    tot = mk1+mk2+mk3+mk4+mk5\n",
    "    print (\"Total: \",tot)\n",
    "    avg = (tot/500)*100\n",
    "    print (\"Percentage: \",'%.14f'%avg)\n",
    "    "
   ]
  },
  {
   "cell_type": "code",
   "execution_count": 103,
   "id": "18b9ffa1-af22-4236-b813-7f04f7b55e0a",
   "metadata": {},
   "outputs": [
    {
     "name": "stdin",
     "output_type": "stream",
     "text": [
      "Subject1=  98\n",
      "Subject2=  87\n",
      "Subject3=  95\n",
      "Subject4=  95\n",
      "Subject5=  93\n"
     ]
    },
    {
     "name": "stdout",
     "output_type": "stream",
     "text": [
      "Total:  468\n",
      "Percentage:  93.60000000000001\n"
     ]
    }
   ],
   "source": [
    "percentage()"
   ]
  },
  {
   "cell_type": "code",
   "execution_count": 105,
   "id": "83183f2a-f980-4334-8a01-06f275416580",
   "metadata": {},
   "outputs": [],
   "source": [
    "#print area and perimeter of triangle using class and functions"
   ]
  },
  {
   "cell_type": "code",
   "execution_count": 127,
   "id": "4618cdae-65cf-43b6-b57e-9ebbfb013586",
   "metadata": {},
   "outputs": [],
   "source": [
    "def triangle():\n",
    "    height = int(input(\"Height: \"))\n",
    "    breadth = int(input(\"Breadth: \"))\n",
    "    area = (height*breadth)/2\n",
    "    print(\"Area formula: (Height * Breadth)/2\")\n",
    "    print(\"Area of Triangle: \",\"%.2f\" %area)\n",
    "    height1= int(input(\"Height1:\"))\n",
    "    height2=int(input(\"Height2:\"))\n",
    "    breadth=int(input(\"Breadth:\"))\n",
    "    per = height1+height2+breadth\n",
    "    print(\"Perimeter formula: Height1+Height2+Breadth\")\n",
    "    print(\"Perimeter of Triangle: \",per)\n",
    "\n",
    "    "
   ]
  },
  {
   "cell_type": "code",
   "execution_count": 129,
   "id": "52c40a21-c07f-4ccd-a15e-f5779c584cff",
   "metadata": {},
   "outputs": [
    {
     "name": "stdin",
     "output_type": "stream",
     "text": [
      "Height:  32\n",
      "Breadth:  34\n"
     ]
    },
    {
     "name": "stdout",
     "output_type": "stream",
     "text": [
      "Area formula: (Height * Breadth)/2\n",
      "Area of Triangle:  544.00\n"
     ]
    },
    {
     "name": "stdin",
     "output_type": "stream",
     "text": [
      "Height1: 4\n",
      "Height2: 4\n",
      "Breadth: 2\n"
     ]
    },
    {
     "name": "stdout",
     "output_type": "stream",
     "text": [
      "Perimeter formula: Height1+Height2+Breadth\n",
      "Perimeter of Triangle:  10\n"
     ]
    }
   ],
   "source": [
    "triangle()"
   ]
  },
  {
   "cell_type": "code",
   "execution_count": null,
   "id": "6c662b63-b046-43df-8f3e-48268b08beaa",
   "metadata": {},
   "outputs": [],
   "source": []
  }
 ],
 "metadata": {
  "kernelspec": {
   "display_name": "Python [conda env:base] *",
   "language": "python",
   "name": "conda-base-py"
  },
  "language_info": {
   "codemirror_mode": {
    "name": "ipython",
    "version": 3
   },
   "file_extension": ".py",
   "mimetype": "text/x-python",
   "name": "python",
   "nbconvert_exporter": "python",
   "pygments_lexer": "ipython3",
   "version": "3.12.7"
  }
 },
 "nbformat": 4,
 "nbformat_minor": 5
}
